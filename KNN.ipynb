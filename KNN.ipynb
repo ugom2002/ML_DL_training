{
 "cells": [
  {
   "cell_type": "markdown",
   "metadata": {},
   "source": [
    "# 📌 K-Nearest Neighbors (KNN) - A Complete Guide\n",
    "\n",
    "This notebook covers the **theory, mathematics, and practical implementation** of **K-Nearest Neighbors (KNN)**, including:\n",
    "✔ **How KNN works**  \n",
    "✔ **Different distance metrics**  \n",
    "✔ **Curse of Dimensionality**  \n",
    "✔ **Hyperparameter tuning**  \n",
    "\n",
    "---\n",
    "\n",
    "## 📖 1. Introduction to K-Nearest Neighbors (KNN)\n",
    "**K-Nearest Neighbors (KNN)** is a **non-parametric, instance-based learning algorithm** used for both **classification and regression**.\n",
    "\n",
    "### 🔹 Why Use KNN?\n",
    "✔ **Simple & intuitive**  \n",
    "✔ **Works well with small datasets**  \n",
    "✔ **No training phase (lazy learning)**  \n",
    "\n",
    "⚠ **Limitations:**\n",
    "- **Slow for large datasets** (because of distance computation).\n",
    "- **Sensitive to irrelevant features**.\n",
    "- **Struggles in high dimensions (Curse of Dimensionality).**\n",
    "\n",
    "---\n",
    "\n",
    "## 🧮 2. Mathematics Behind KNN\n",
    "\n",
    "### 🔹 1. How Does KNN Work?\n",
    "1. **Choose the number of neighbors ($k$).**  \n",
    "2. **Compute distances** between the test point and all training points.  \n",
    "3. **Select the $k$ closest points**.  \n",
    "4. **Majority vote (classification) or average (regression).**  \n",
    "\n",
    "✅ **No explicit training phase**—KNN stores data and **makes predictions on demand**.\n",
    "\n",
    "---\n",
    "\n",
    "### 🔹 2. Distance Metrics in KNN\n",
    "KNN relies on distance computation to find the **nearest neighbors**.  \n",
    "The choice of **distance metric** affects model performance.\n",
    "\n",
    "#### **1️⃣ Euclidean Distance (Default)**\n",
    "Most commonly used, measures **straight-line distance**:\n",
    "\n",
    "$$\n",
    "d(x, y) = \\sqrt{\\sum_{i=1}^{n} (x_i - y_i)^2}\n",
    "$$\n",
    "\n",
    "✅ **Good for continuous numerical features.**  \n",
    "⚠ **Sensitive to feature scaling (requires normalization).**  \n",
    "\n",
    "#### **2️⃣ Manhattan Distance (Taxicab Distance)**\n",
    "Measures **absolute differences**:\n",
    "\n",
    "$$\n",
    "d(x, y) = \\sum_{i=1}^{n} |x_i - y_i|\n",
    "$$\n",
    "\n",
    "✅ **Works well with grid-like structures (e.g., city blocks).**  \n",
    "\n",
    "#### **3️⃣ Minkowski Distance (Generalized Form)**\n",
    "A **generalization** of both Euclidean and Manhattan:\n",
    "\n",
    "$$\n",
    "d(x, y) = \\left( \\sum_{i=1}^{n} |x_i - y_i|^p \\right)^{\\frac{1}{p}}\n",
    "$$\n",
    "\n",
    "- **$p = 1$** → Manhattan Distance  \n",
    "- **$p = 2$** → Euclidean Distance  \n",
    "\n",
    "✅ **Can be tuned using `p` to adjust sensitivity.**  \n",
    "\n",
    "---\n",
    "\n",
    "### 🔹 3. Curse of Dimensionality\n",
    "**KNN struggles in high-dimensional spaces** because:\n",
    "- **Distances become less meaningful** → All points tend to be equally distant.  \n",
    "- **Sparsity increases** → Harder to find \"nearest\" neighbors.  \n",
    "- **Computational cost grows** → More features = More distance calculations.\n",
    "\n",
    "🔍 **Solution:**  \n",
    "- **Feature selection** (drop irrelevant features).  \n",
    "- **Dimensionality reduction (PCA, t-SNE)**.  \n",
    "- **Use distance-weighted voting** (neighbors contribute based on distance).\n",
    "\n",
    "---\n"
   ]
  },
  {
   "cell_type": "code",
   "execution_count": 1,
   "metadata": {},
   "outputs": [],
   "source": [
    "# 📦 Import required libraries\n",
    "import numpy as np\n",
    "import pandas as pd\n",
    "import matplotlib.pyplot as plt\n",
    "import seaborn as sns\n",
    "from sklearn.model_selection import train_test_split\n",
    "from sklearn.preprocessing import StandardScaler\n",
    "from sklearn.neighbors import KNeighborsClassifier\n",
    "from sklearn.metrics import accuracy_score, classification_report, confusion_matrix\n"
   ]
  },
  {
   "cell_type": "markdown",
   "metadata": {},
   "source": [
    "## 📂 3. Loading and Preprocessing the Dataset\n",
    "\n",
    "We will use the **Iris dataset**, a well-known classification dataset.\n"
   ]
  },
  {
   "cell_type": "code",
   "execution_count": 2,
   "metadata": {},
   "outputs": [
    {
     "data": {
      "text/html": [
       "<div>\n",
       "<style scoped>\n",
       "    .dataframe tbody tr th:only-of-type {\n",
       "        vertical-align: middle;\n",
       "    }\n",
       "\n",
       "    .dataframe tbody tr th {\n",
       "        vertical-align: top;\n",
       "    }\n",
       "\n",
       "    .dataframe thead th {\n",
       "        text-align: right;\n",
       "    }\n",
       "</style>\n",
       "<table border=\"1\" class=\"dataframe\">\n",
       "  <thead>\n",
       "    <tr style=\"text-align: right;\">\n",
       "      <th></th>\n",
       "      <th>sepal length (cm)</th>\n",
       "      <th>sepal width (cm)</th>\n",
       "      <th>petal length (cm)</th>\n",
       "      <th>petal width (cm)</th>\n",
       "      <th>Target</th>\n",
       "    </tr>\n",
       "  </thead>\n",
       "  <tbody>\n",
       "    <tr>\n",
       "      <th>0</th>\n",
       "      <td>5.1</td>\n",
       "      <td>3.5</td>\n",
       "      <td>1.4</td>\n",
       "      <td>0.2</td>\n",
       "      <td>0</td>\n",
       "    </tr>\n",
       "    <tr>\n",
       "      <th>1</th>\n",
       "      <td>4.9</td>\n",
       "      <td>3.0</td>\n",
       "      <td>1.4</td>\n",
       "      <td>0.2</td>\n",
       "      <td>0</td>\n",
       "    </tr>\n",
       "    <tr>\n",
       "      <th>2</th>\n",
       "      <td>4.7</td>\n",
       "      <td>3.2</td>\n",
       "      <td>1.3</td>\n",
       "      <td>0.2</td>\n",
       "      <td>0</td>\n",
       "    </tr>\n",
       "    <tr>\n",
       "      <th>3</th>\n",
       "      <td>4.6</td>\n",
       "      <td>3.1</td>\n",
       "      <td>1.5</td>\n",
       "      <td>0.2</td>\n",
       "      <td>0</td>\n",
       "    </tr>\n",
       "    <tr>\n",
       "      <th>4</th>\n",
       "      <td>5.0</td>\n",
       "      <td>3.6</td>\n",
       "      <td>1.4</td>\n",
       "      <td>0.2</td>\n",
       "      <td>0</td>\n",
       "    </tr>\n",
       "  </tbody>\n",
       "</table>\n",
       "</div>"
      ],
      "text/plain": [
       "   sepal length (cm)  sepal width (cm)  petal length (cm)  petal width (cm)  \\\n",
       "0                5.1               3.5                1.4               0.2   \n",
       "1                4.9               3.0                1.4               0.2   \n",
       "2                4.7               3.2                1.3               0.2   \n",
       "3                4.6               3.1                1.5               0.2   \n",
       "4                5.0               3.6                1.4               0.2   \n",
       "\n",
       "   Target  \n",
       "0       0  \n",
       "1       0  \n",
       "2       0  \n",
       "3       0  \n",
       "4       0  "
      ]
     },
     "execution_count": 2,
     "metadata": {},
     "output_type": "execute_result"
    }
   ],
   "source": [
    "# Load dataset (Iris)\n",
    "from sklearn.datasets import load_iris\n",
    "\n",
    "data = load_iris()\n",
    "df = pd.DataFrame(data.data, columns=data.feature_names)\n",
    "df[\"Target\"] = data.target  # 0 = Setosa, 1 = Versicolor, 2 = Virginica\n",
    "\n",
    "# Display first five rows\n",
    "df.head()\n"
   ]
  },
  {
   "cell_type": "markdown",
   "metadata": {},
   "source": [
    "## 🔍 4. Data Preprocessing\n",
    "\n",
    "Before training:\n",
    "✔ **Check for missing values**  \n",
    "✔ **Normalize features using StandardScaler**  \n",
    "✔ **Split dataset into train & test**\n"
   ]
  },
  {
   "cell_type": "code",
   "execution_count": 3,
   "metadata": {},
   "outputs": [
    {
     "name": "stdout",
     "output_type": "stream",
     "text": [
      "🔍 Missing values per column:\n",
      " sepal length (cm)    0\n",
      "sepal width (cm)     0\n",
      "petal length (cm)    0\n",
      "petal width (cm)     0\n",
      "Target               0\n",
      "dtype: int64\n",
      "✅ Data prepared: Train = (120, 4), Test = (30, 4)\n"
     ]
    }
   ],
   "source": [
    "# Check for missing values\n",
    "print(\"🔍 Missing values per column:\\n\", df.isnull().sum())\n",
    "\n",
    "# Separate features and target\n",
    "X = df.drop(columns=[\"Target\"])\n",
    "y = df[\"Target\"]\n",
    "\n",
    "# Normalize features (KNN is sensitive to scale)\n",
    "scaler = StandardScaler()\n",
    "X_scaled = scaler.fit_transform(X)\n",
    "\n",
    "# Split data\n",
    "X_train, X_test, y_train, y_test = train_test_split(X_scaled, y, test_size=0.2, random_state=42)\n",
    "\n",
    "print(f\"✅ Data prepared: Train = {X_train.shape}, Test = {X_test.shape}\")\n"
   ]
  },
  {
   "cell_type": "markdown",
   "metadata": {},
   "source": [
    "## 🤖 5. Training a KNN Model\n",
    "\n",
    "We will train a **KNN classifier** and evaluate its performance.\n"
   ]
  },
  {
   "cell_type": "code",
   "execution_count": 4,
   "metadata": {},
   "outputs": [
    {
     "name": "stdout",
     "output_type": "stream",
     "text": [
      "📊 KNN Accuracy (k=5): 1.0000\n"
     ]
    }
   ],
   "source": [
    "# Initialize and train KNN classifier (default k=5)\n",
    "knn_model = KNeighborsClassifier(n_neighbors=5, metric=\"euclidean\")\n",
    "knn_model.fit(X_train, y_train)\n",
    "\n",
    "# Make predictions\n",
    "y_pred_knn = knn_model.predict(X_test)\n",
    "\n",
    "# Evaluate model\n",
    "accuracy_knn = accuracy_score(y_test, y_pred_knn)\n",
    "print(f\"📊 KNN Accuracy (k=5): {accuracy_knn:.4f}\")\n"
   ]
  },
  {
   "cell_type": "markdown",
   "metadata": {},
   "source": [
    "## 📉 6. Evaluating Performance with Different k-values\n",
    "\n",
    "Let's analyze how **different values of $k$ affect accuracy**.\n"
   ]
  },
  {
   "cell_type": "code",
   "execution_count": 5,
   "metadata": {},
   "outputs": [
    {
     "data": {
      "image/png": "[encoded data removed]",
      "text/plain": [
       "<Figure size 800x600 with 1 Axes>"
      ]
     },
     "metadata": {},
     "output_type": "display_data"
    }
   ],
   "source": [
    "# Try different values of k\n",
    "k_values = range(1, 20)\n",
    "accuracies = []\n",
    "\n",
    "for k in k_values:\n",
    "    knn = KNeighborsClassifier(n_neighbors=k)\n",
    "    knn.fit(X_train, y_train)\n",
    "    y_pred = knn.predict(X_test)\n",
    "    accuracies.append(accuracy_score(y_test, y_pred))\n",
    "\n",
    "# Plot accuracy vs. k\n",
    "plt.figure(figsize=(8, 6))\n",
    "plt.plot(k_values, accuracies, marker=\"o\", linestyle=\"-\")\n",
    "plt.xlabel(\"Number of Neighbors (k)\")\n",
    "plt.ylabel(\"Accuracy\")\n",
    "plt.title(\"Effect of k on KNN Accuracy\")\n",
    "plt.show()\n"
   ]
  },
  {
   "cell_type": "markdown",
   "metadata": {},
   "source": [
    "## 🎯 7. Hyperparameter Tuning with GridSearchCV\n",
    "\n",
    "We will tune:\n",
    "✔ **n_neighbors** (k-value)  \n",
    "✔ **metric** (distance calculation)\n"
   ]
  },
  {
   "cell_type": "code",
   "execution_count": 6,
   "metadata": {},
   "outputs": [
    {
     "name": "stdout",
     "output_type": "stream",
     "text": [
      "✅ Best parameters: {'metric': 'euclidean', 'n_neighbors': 9}\n",
      "📊 Best KNN Accuracy: 1.0000\n"
     ]
    }
   ],
   "source": [
    "from sklearn.model_selection import GridSearchCV\n",
    "\n",
    "# Define hyperparameter grid\n",
    "param_grid = {\n",
    "    'n_neighbors': range(1, 20),\n",
    "    'metric': ['euclidean', 'manhattan', 'minkowski']\n",
    "}\n",
    "\n",
    "# Perform Grid Search\n",
    "grid_search = GridSearchCV(KNeighborsClassifier(), param_grid, cv=3, scoring='accuracy')\n",
    "grid_search.fit(X_train, y_train)\n",
    "\n",
    "# Best parameters\n",
    "print(f\"✅ Best parameters: {grid_search.best_params_}\")\n",
    "\n",
    "# Evaluate best model\n",
    "best_knn = grid_search.best_estimator_\n",
    "y_pred_best_knn = best_knn.predict(X_test)\n",
    "\n",
    "# Compute accuracy\n",
    "accuracy_best_knn = accuracy_score(y_test, y_pred_best_knn)\n",
    "print(f\"📊 Best KNN Accuracy: {accuracy_best_knn:.4f}\")\n"
   ]
  },
  {
   "cell_type": "markdown",
   "metadata": {},
   "source": [
    "## 💡 8. Interview Questions\n",
    "\n",
    "1️⃣ **What is the objective of KNN?**  \n",
    "   - Predict the class of a new point by looking at **the majority vote** among its $k$ nearest neighbors.\n",
    "\n",
    "2️⃣ **How do you choose the best value of $k$?**  \n",
    "   - Use **Grid Search** or **elbow method** (plot accuracy vs. k).\n",
    "\n",
    "3️⃣ **What is the effect of high vs. low $k$?**  \n",
    "   - **Low $k$ (e.g., 1-3)** → More variance (overfitting).  \n",
    "   - **High $k$ (e.g., 10-50)** → More bias (underfitting).\n",
    "\n",
    "4️⃣ **What is the Curse of Dimensionality in KNN?**  \n",
    "   - As dimensions increase, **distances become less meaningful** and all points appear equally distant.\n",
    "\n",
    "5️⃣ **How can we handle high-dimensional data in KNN?**  \n",
    "   - Use **feature selection** or **dimensionality reduction (PCA, t-SNE)**.\n"
   ]
  }
 ],
 "metadata": {
  "kernelspec": {
   "display_name": "Python 3",
   "language": "python",
   "name": "python3"
  },
  "language_info": {
   "codemirror_mode": {
    "name": "ipython",
    "version": 3
   },
   "file_extension": ".py",
   "mimetype": "text/x-python",
   "name": "python",
   "nbconvert_exporter": "python",
   "pygments_lexer": "ipython3",
   "version": "3.12.3"
  }
 },
 "nbformat": 4,
 "nbformat_minor": 2
}
