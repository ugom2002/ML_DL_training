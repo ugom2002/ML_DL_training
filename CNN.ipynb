{
 "cells": [
  {
   "cell_type": "markdown",
   "metadata": {},
   "source": [
    "# 📌 Convolutional Neural Networks (CNNs) - A Complete Guide\n",
    "\n",
    "This notebook provides a **detailed breakdown** of CNN fundamentals and their application to **Fashion MNIST**. We will cover:\n",
    "\n",
    "✔ **Mathematical foundations of CNNs**  \n",
    "✔ **Preprocessing Fashion MNIST dataset**  \n",
    "✔ **Building and training a CNN in PyTorch**  \n",
    "✔ **Evaluating and visualizing results**\n",
    "\n",
    "---\n",
    "\n",
    "## 📖 1. Introduction to CNNs\n",
    "\n",
    "### 🔹 Why Use Convolutional Neural Networks?\n",
    "A **Convolutional Neural Network (CNN)** is a specialized deep learning model designed to process structured grid data, such as images. Unlike traditional fully connected neural networks, CNNs **exploit spatial hierarchies** by applying **convolutional filters** to extract features automatically.\n",
    "\n",
    "✔ **Capture local patterns using filters**  \n",
    "✔ **Reduce the number of parameters with weight sharing**  \n",
    "✔ **Learn hierarchical representations (edges → textures → objects)**  \n",
    "✔ **Achieve state-of-the-art performance in vision tasks**\n",
    "\n",
    "---\n",
    "\n",
    "## 🧮 2. Mathematical Foundation of CNNs\n",
    "\n",
    "### 🔹 1. The Convolution Operation\n",
    "\n",
    "A **convolution** is a mathematical operation that applies a **kernel (filter)** to an input image. Mathematically, a **2D convolution** is defined as:\n",
    "\n",
    "$$\n",
    "S(i, j) = \\sum_m \\sum_n X(i-m, j-n) K(m, n)\n",
    "$$\n",
    "\n",
    "where:\n",
    "- **\\(X\\)** is the input image,\n",
    "- **\\(K\\)** is the convolutional filter (kernel),\n",
    "- **\\(S(i, j)\\)** is the output feature map.\n",
    "\n",
    "Each kernel detects **specific patterns**, such as **edges, textures, or shapes**.\n",
    "\n",
    "---\n",
    "\n",
    "### 🔹 2. Stride and Padding\n",
    "\n",
    "- **Stride \\( s \\)**: Determines how much the filter moves at each step.  \n",
    "  - Stride \\( s = 1 \\) → Dense feature maps (more details)  \n",
    "  - Stride \\( s > 1 \\) → Smaller feature maps (reduces computation)\n",
    "\n",
    "- **Padding \\( p \\)**: Adds extra pixels around the input to preserve spatial dimensions.  \n",
    "  - **\"Valid\" convolution**: No padding, reducing output size.  \n",
    "  - **\"Same\" convolution**: Padding ensures output size remains the same as input.\n",
    "\n",
    "The output feature map size can be computed as:\n",
    "\n",
    "$$\n",
    "O = \\frac{(I - K + 2P)}{S} + 1\n",
    "$$\n",
    "\n",
    "where:\n",
    "- \\( I \\) = input size,  \n",
    "- \\( K \\) = kernel size,  \n",
    "- \\( P \\) = padding,  \n",
    "- \\( S \\) = stride.\n",
    "\n",
    "---\n",
    "\n",
    "### 🔹 3. Pooling Layer\n",
    "\n",
    "Pooling reduces dimensionality while **retaining important features**. The two common types are:\n",
    "\n",
    "- **Max Pooling**:\n",
    "  \n",
    "  $$\n",
    "  P(i, j) = \\max(X(i:i+k, j:j+k))\n",
    "  $$\n",
    "\n",
    "  Selects the maximum value in a window.\n",
    "\n",
    "- **Average Pooling**:\n",
    "\n",
    "  $$\n",
    "  P(i, j) = \\frac{1}{k^2} \\sum X(i:i+k, j:j+k)\n",
    "  $$\n",
    "\n",
    "  Averages values in a window.\n",
    "\n",
    "---\n",
    "\n",
    "### 🔹 4. Fully Connected Layer\n",
    "\n",
    "After feature extraction with convolutions, a **fully connected layer** (dense layer) maps features to class scores. Mathematically, this is represented as:\n",
    "\n",
    "$$\n",
    "y = W \\cdot x + b\n",
    "$$\n",
    "\n",
    "where:\n",
    "- \\( W \\) = weight matrix,  \n",
    "- \\( x \\) = input vector (flattened feature map),  \n",
    "- \\( b \\) = bias term.\n",
    "\n",
    "The output is then passed through a **softmax function**:\n",
    "\n",
    "$$\n",
    "\\hat{y}_i = \\frac{e^{z_i}}{\\sum_j e^{z_j}}\n",
    "$$\n",
    "\n",
    "to obtain class probabilities.\n",
    "\n",
    "---\n"
   ]
  },
  {
   "cell_type": "markdown",
   "metadata": {},
   "source": [
    "## 🚀 3. Preprocessing the Fashion MNIST Dataset\n",
    "\n",
    "### 🔹 About the Dataset\n",
    "Fashion MNIST is a **grayscale (28×28)** image dataset containing **10 clothing categories**:\n",
    "1. T-shirt/top\n",
    "2. Trouser\n",
    "3. Pullover\n",
    "4. Dress\n",
    "5. Coat\n",
    "6. Sandal\n",
    "7. Shirt\n",
    "8. Sneaker\n",
    "9. Bag\n",
    "10. Ankle boot\n",
    "\n",
    "Each image is labeled with an integer **(0-9)**.\n",
    "\n",
    "---\n",
    "\n",
    "### 🔹 Data Preprocessing Steps\n",
    "✔ **Normalize pixel values** (scale from [0, 255] to [0, 1])  \n",
    "✔ **Reshape data** (PyTorch requires batch dimension)  \n",
    "✔ **Convert to tensors**  \n",
    "\n",
    "---\n"
   ]
  },
  {
   "cell_type": "markdown",
   "metadata": {},
   "source": [
    "### 📌 **PyTorch Implementation of CNN for Fashion MNIST**"
   ]
  },
  {
   "cell_type": "code",
   "execution_count": 5,
   "metadata": {},
   "outputs": [],
   "source": [
    "# 📦 Import necessary libraries\n",
    "import torch\n",
    "import torch.nn as nn\n",
    "import torch.optim as optim\n",
    "import torchvision\n",
    "import torchvision.transforms as transforms\n",
    "from torch.utils.data import DataLoader\n",
    "\n",
    "import matplotlib.pyplot as plt"
   ]
  },
  {
   "cell_type": "code",
   "execution_count": 3,
   "metadata": {},
   "outputs": [
    {
     "data": {
      "text/plain": [
       "'# ✅ 1. Load and Preprocess Fashion MNIST Dataset\\ntransform = transforms.Compose([\\n    transforms.ToTensor(),  # Convert images to tensors\\n    transforms.Normalize((0.5,), (0.5,))  # Normalize to range [-1,1]\\n])\\n\\n# Download dataset\\ntrain_dataset = torchvision.datasets.FashionMNIST(root=\\'./data\\', train=True, transform=transform, download=True)\\ntest_dataset = torchvision.datasets.FashionMNIST(root=\\'./data\\', train=False, transform=transform, download=True)\\n\\n# Create DataLoader\\ntrain_loader = DataLoader(train_dataset, batch_size=64, shuffle=True)\\ntest_loader = DataLoader(test_dataset, batch_size=64, shuffle=False)\\n\\n# ✅ 2. Define the CNN Model\\nclass CNN(nn.Module):\\n    def __init__(self):\\n        super(CNN, self).__init__()\\n        self.conv1 = nn.Conv2d(in_channels=1, out_channels=32, kernel_size=3, padding=1)\\n        self.conv2 = nn.Conv2d(in_channels=32, out_channels=64, kernel_size=3, padding=1)\\n        self.pool = nn.MaxPool2d(kernel_size=2, stride=2)\\n        self.fc1 = nn.Linear(64 * 7 * 7, 128)\\n        self.fc2 = nn.Linear(128, 10)\\n\\n    def forward(self, x):\\n        x = self.pool(torch.relu(self.conv1(x)))\\n        x = self.pool(torch.relu(self.conv2(x)))\\n        x = x.view(-1, 64 * 7 * 7)  # Flatten feature maps\\n        x = torch.relu(self.fc1(x))\\n        x = self.fc2(x)  # No softmax, CrossEntropyLoss applies it\\n        return x\\n\\n# ✅ 3. Initialize Model, Loss Function, and Optimizer\\ndevice = torch.device(\"cuda\" if torch.cuda.is_available() else \"cpu\")\\nmodel = CNN().to(device)\\ncriterion = nn.CrossEntropyLoss()\\noptimizer = optim.Adam(model.parameters(), lr=0.001)\\n\\n# ✅ 4. Train the CNN Model\\nepochs = 10\\nfor epoch in range(epochs):\\n    model.train()\\n    running_loss = 0.0\\n\\n    for images, labels in train_loader:\\n        images, labels = images.to(device), labels.to(device)\\n\\n        optimizer.zero_grad()\\n        outputs = model(images)\\n        loss = criterion(outputs, labels)\\n        loss.backward()\\n        optimizer.step()\\n\\n        running_loss += loss.item()\\n\\n    print(f\"Epoch {epoch+1}/{epochs}, Loss: {running_loss / len(train_loader):.4f}\")\\n\\n# ✅ 5. Evaluate the Model\\nmodel.eval()\\ncorrect, total = 0, 0\\n\\nwith torch.no_grad():\\n    for images, labels in test_loader:\\n        images, labels = images.to(device), labels.to(device)\\n        outputs = model(images)\\n        _, predicted = torch.max(outputs, 1)\\n        total += labels.size(0)\\n        correct += (predicted == labels).sum().item()\\n\\naccuracy = 100 * correct / total\\nprint(f\"📊 Accuracy on test set: {accuracy:.2f}%\")\\n'"
      ]
     },
     "execution_count": 3,
     "metadata": {},
     "output_type": "execute_result"
    }
   ],
   "source": [
    "# ✅ 1. Load and Preprocess Fashion MNIST Dataset\n",
    "transform = transforms.Compose([\n",
    "    transforms.ToTensor(),  # Convert images to tensors\n",
    "    transforms.Normalize((0.5,), (0.5,))  # Normalize to range [-1,1]\n",
    "])\n",
    "\n",
    "# Download dataset\n",
    "train_dataset = torchvision.datasets.FashionMNIST(root='./data', train=True, transform=transform, download=True)\n",
    "test_dataset = torchvision.datasets.FashionMNIST(root='./data', train=False, transform=transform, download=True)\n",
    "\n",
    "# Create DataLoader\n",
    "train_loader = DataLoader(train_dataset, batch_size=64, shuffle=True)\n",
    "test_loader = DataLoader(test_dataset, batch_size=64, shuffle=False)\n",
    "\n",
    "# ✅ 2. Define the CNN Model\n",
    "class CNN(nn.Module):\n",
    "    def __init__(self):\n",
    "        super(CNN, self).__init__()\n",
    "        self.conv1 = nn.Conv2d(in_channels=1, out_channels=32, kernel_size=3, padding=1)\n",
    "        self.conv2 = nn.Conv2d(in_channels=32, out_channels=64, kernel_size=3, padding=1)\n",
    "        self.pool = nn.MaxPool2d(kernel_size=2, stride=2)\n",
    "        self.fc1 = nn.Linear(64 * 7 * 7, 128)\n",
    "        self.fc2 = nn.Linear(128, 10)\n",
    "\n",
    "    def forward(self, x):\n",
    "        x = self.pool(torch.relu(self.conv1(x)))\n",
    "        x = self.pool(torch.relu(self.conv2(x)))\n",
    "        x = x.view(-1, 64 * 7 * 7)  # Flatten feature maps\n",
    "        x = torch.relu(self.fc1(x))\n",
    "        x = self.fc2(x)  # No softmax, CrossEntropyLoss applies it\n",
    "        return x\n",
    "\n",
    "# ✅ 3. Initialize Model, Loss Function, and Optimizer\n",
    "device = torch.device(\"cuda\" if torch.cuda.is_available() else \"cpu\")\n",
    "model = CNN().to(device)\n",
    "criterion = nn.CrossEntropyLoss()\n",
    "optimizer = optim.Adam(model.parameters(), lr=0.001)\n",
    "\n",
    "# ✅ 4. Train the CNN Model\n",
    "epochs = 10\n",
    "for epoch in range(epochs):\n",
    "    model.train()\n",
    "    running_loss = 0.0\n",
    "\n",
    "    for images, labels in train_loader:\n",
    "        images, labels = images.to(device), labels.to(device)\n",
    "\n",
    "        optimizer.zero_grad()\n",
    "        outputs = model(images)\n",
    "        loss = criterion(outputs, labels)\n",
    "        loss.backward()\n",
    "        optimizer.step()\n",
    "\n",
    "        running_loss += loss.item()\n",
    "\n",
    "    print(f\"Epoch {epoch+1}/{epochs}, Loss: {running_loss / len(train_loader):.4f}\")\n",
    "\n",
    "# ✅ 5. Evaluate the Model\n",
    "model.eval()\n",
    "correct, total = 0, 0\n",
    "\n",
    "with torch.no_grad():\n",
    "    for images, labels in test_loader:\n",
    "        images, labels = images.to(device), labels.to(device)\n",
    "        outputs = model(images)\n",
    "        _, predicted = torch.max(outputs, 1)\n",
    "        total += labels.size(0)\n",
    "        correct += (predicted == labels).sum().item()\n",
    "\n",
    "accuracy = 100 * correct / total\n",
    "print(f\"📊 Accuracy on test set: {accuracy:.2f}%\")\n"
   ]
  },
  {
   "cell_type": "markdown",
   "metadata": {},
   "source": [
    "### 📌 PyTorch: Visualizing Fashion MNIST"
   ]
  },
  {
   "cell_type": "code",
   "execution_count": 6,
   "metadata": {},
   "outputs": [
    {
     "data": {
      "image/png": "[encoded data removed]",
      "text/plain": [
       "<Figure size 1200x400 with 6 Axes>"
      ]
     },
     "metadata": {},
     "output_type": "display_data"
    }
   ],
   "source": [
    "# ✅ 1. Load and Preprocess Fashion MNIST Dataset\n",
    "transform = transforms.Compose([\n",
    "    transforms.ToTensor(),\n",
    "    transforms.Normalize((0.5,), (0.5,))\n",
    "])\n",
    "\n",
    "# Download dataset\n",
    "train_dataset = torchvision.datasets.FashionMNIST(root='./data', train=True, transform=transform, download=True)\n",
    "test_dataset = torchvision.datasets.FashionMNIST(root='./data', train=False, transform=transform, download=True)\n",
    "\n",
    "# Create DataLoader\n",
    "train_loader = torch.utils.data.DataLoader(train_dataset, batch_size=64, shuffle=True)\n",
    "\n",
    "# ✅ 2. Visualize Sample Images\n",
    "class_names = [\"T-shirt/top\", \"Trouser\", \"Pullover\", \"Dress\", \"Coat\", \n",
    "               \"Sandal\", \"Shirt\", \"Sneaker\", \"Bag\", \"Ankle boot\"]\n",
    "\n",
    "# Function to display images\n",
    "def show_images(images, labels):\n",
    "    images = images / 2 + 0.5  # Unnormalize from [-1,1] to [0,1]\n",
    "    np_images = images.numpy()\n",
    "    \n",
    "    fig, axes = plt.subplots(1, 6, figsize=(12, 4))\n",
    "    for i in range(6):\n",
    "        axes[i].imshow(np_images[i].squeeze(), cmap=\"gray\")\n",
    "        axes[i].set_title(class_names[labels[i].item()])\n",
    "        axes[i].axis(\"off\")\n",
    "    plt.show()\n",
    "\n",
    "# Get a batch of images\n",
    "dataiter = iter(train_loader)\n",
    "images, labels = next(dataiter)\n",
    "\n",
    "# Show images\n",
    "show_images(images[:6], labels[:6])\n"
   ]
  },
  {
   "cell_type": "markdown",
   "metadata": {},
   "source": [
    "### 📌 **Keras Implementation of CNN for Fashion MNIST**"
   ]
  },
  {
   "cell_type": "code",
   "execution_count": 7,
   "metadata": {},
   "outputs": [],
   "source": [
    "# 📦 Import necessary libraries\n",
    "import tensorflow as tf\n",
    "from tensorflow import keras\n",
    "from tensorflow.keras import layers\n",
    "import numpy as np"
   ]
  },
  {
   "cell_type": "code",
   "execution_count": 10,
   "metadata": {},
   "outputs": [
    {
     "data": {
      "text/plain": [
       "'# ✅ 1. Load and Preprocess Fashion MNIST Dataset\\n(X_train, y_train), (X_test, y_test) = keras.datasets.fashion_mnist.load_data()\\n\\n# Normalize pixel values to range [0,1]\\nX_train = X_train.astype(\"float32\") / 255.0\\nX_test = X_test.astype(\"float32\") / 255.0\\n\\n# Reshape for CNN (batch, height, width, channels)\\nX_train = np.expand_dims(X_train, axis=-1)\\nX_test = np.expand_dims(X_test, axis=-1)\\n\\n# ✅ 2. Define the CNN Model\\nkeras_model = keras.Sequential([\\n    layers.Conv2D(32, kernel_size=3, activation=\"relu\", padding=\"same\", input_shape=(28, 28, 1)),\\n    layers.MaxPooling2D(pool_size=2),\\n    \\n    layers.Conv2D(64, kernel_size=3, activation=\"relu\", padding=\"same\"),\\n    layers.MaxPooling2D(pool_size=2),\\n\\n    layers.Flatten(),\\n    layers.Dense(128, activation=\"relu\"),\\n    layers.Dense(10, activation=\"softmax\")  # Softmax for multi-class classification\\n])\\n\\n# ✅ 3. Compile the Model\\nkeras_model.compile(optimizer=\"adam\", loss=\"sparse_categorical_crossentropy\", metrics=[\"accuracy\"])\\n\\n# ✅ 4. Train the Model\\nkeras_model.fit(X_train, y_train, epochs=10, batch_size=64, validation_data=(X_test, y_test))\\n\\n# ✅ 5. Evaluate the Model\\ntest_loss, test_accuracy = keras_model.evaluate(X_test, y_test)\\nprint(f\"📊 Accuracy on test set: {test_accuracy:.2f}%\")'"
      ]
     },
     "execution_count": 10,
     "metadata": {},
     "output_type": "execute_result"
    }
   ],
   "source": [
    "# ✅ 1. Load and Preprocess Fashion MNIST Dataset\n",
    "(X_train, y_train), (X_test, y_test) = keras.datasets.fashion_mnist.load_data()\n",
    "\n",
    "# Normalize pixel values to range [0,1]\n",
    "X_train = X_train.astype(\"float32\") / 255.0\n",
    "X_test = X_test.astype(\"float32\") / 255.0\n",
    "\n",
    "# Reshape for CNN (batch, height, width, channels)\n",
    "X_train = np.expand_dims(X_train, axis=-1)\n",
    "X_test = np.expand_dims(X_test, axis=-1)\n",
    "\n",
    "# ✅ 2. Define the CNN Model\n",
    "keras_model = keras.Sequential([\n",
    "    layers.Conv2D(32, kernel_size=3, activation=\"relu\", padding=\"same\", input_shape=(28, 28, 1)),\n",
    "    layers.MaxPooling2D(pool_size=2),\n",
    "    \n",
    "    layers.Conv2D(64, kernel_size=3, activation=\"relu\", padding=\"same\"),\n",
    "    layers.MaxPooling2D(pool_size=2),\n",
    "\n",
    "    layers.Flatten(),\n",
    "    layers.Dense(128, activation=\"relu\"),\n",
    "    layers.Dense(10, activation=\"softmax\")  # Softmax for multi-class classification\n",
    "])\n",
    "\n",
    "# ✅ 3. Compile the Model\n",
    "keras_model.compile(optimizer=\"adam\", loss=\"sparse_categorical_crossentropy\", metrics=[\"accuracy\"])\n",
    "\n",
    "# ✅ 4. Train the Model\n",
    "keras_model.fit(X_train, y_train, epochs=10, batch_size=64, validation_data=(X_test, y_test))\n",
    "\n",
    "# ✅ 5. Evaluate the Model\n",
    "test_loss, test_accuracy = keras_model.evaluate(X_test, y_test)\n",
    "print(f\"📊 Accuracy on test set: {test_accuracy:.2f}%\")\n"
   ]
  },
  {
   "cell_type": "markdown",
   "metadata": {},
   "source": [
    "### 📌 Keras: Visualizing Fashion MNIST"
   ]
  },
  {
   "cell_type": "code",
   "execution_count": 8,
   "metadata": {},
   "outputs": [
    {
     "data": {
      "image/png": "[encoded data removed]",
      "text/plain": [
       "<Figure size 1200x400 with 6 Axes>"
      ]
     },
     "metadata": {},
     "output_type": "display_data"
    }
   ],
   "source": [
    "# ✅ 1. Load Fashion MNIST Dataset\n",
    "(X_train, y_train), (X_test, y_test) = keras.datasets.fashion_mnist.load_data()\n",
    "\n",
    "# ✅ 2. Visualize Sample Images\n",
    "class_names = [\"T-shirt/top\", \"Trouser\", \"Pullover\", \"Dress\", \"Coat\", \n",
    "               \"Sandal\", \"Shirt\", \"Sneaker\", \"Bag\", \"Ankle boot\"]\n",
    "\n",
    "# Function to display images\n",
    "def show_images(images, labels):\n",
    "    fig, axes = plt.subplots(1, 6, figsize=(12, 4))\n",
    "    for i in range(6):\n",
    "        axes[i].imshow(images[i], cmap=\"gray\")\n",
    "        axes[i].set_title(class_names[labels[i]])\n",
    "        axes[i].axis(\"off\")\n",
    "    plt.show()\n",
    "\n",
    "# Show images\n",
    "show_images(X_train[:6], y_train[:6])"
   ]
  }
 ],
 "metadata": {
  "kernelspec": {
   "display_name": "Python 3",
   "language": "python",
   "name": "python3"
  },
  "language_info": {
   "codemirror_mode": {
    "name": "ipython",
    "version": 3
   },
   "file_extension": ".py",
   "mimetype": "text/x-python",
   "name": "python",
   "nbconvert_exporter": "python",
   "pygments_lexer": "ipython3",
   "version": "3.12.3"
  }
 },
 "nbformat": 4,
 "nbformat_minor": 2
}
